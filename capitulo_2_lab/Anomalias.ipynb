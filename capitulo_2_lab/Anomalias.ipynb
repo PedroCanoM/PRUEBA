{
 "cells": [
  {
   "cell_type": "code",
   "execution_count": 21,
   "id": "cf3b9c1c",
   "metadata": {},
   "outputs": [],
   "source": [
    "import numpy as np\n",
    "import matplotlib\n",
    "import matplotlib.pyplot as plt\n",
    "from sklearn.datasets import make_blobs\n",
    "from sklearn.covariance import EllipticEnvelope\n",
    "from sklearn.neighbors import LocalOutlierFactor"
   ]
  },
  {
   "cell_type": "code",
   "execution_count": 22,
   "id": "30d5b398",
   "metadata": {},
   "outputs": [],
   "source": [
    "n=200\n",
    "f_out=0.15\n",
    "n_out=int(_out*n)\n",
    "n_normales=n-n_out"
   ]
  },
  {
   "cell_type": "code",
   "execution_count": 23,
   "id": "5bdf2165",
   "metadata": {},
   "outputs": [],
   "source": [
    "np.random.seed(111)"
   ]
  },
  {
   "cell_type": "code",
   "execution_count": 24,
   "id": "09718fab",
   "metadata": {},
   "outputs": [],
   "source": [
    "X,y = make_blobs(n_samples=n_normales, centers=[[2, 2], [-2, -2]], \n",
    "                      cluster_std=[1.5, .3])"
   ]
  },
  {
   "cell_type": "code",
   "execution_count": 25,
   "id": "e931fc88",
   "metadata": {},
   "outputs": [],
   "source": [
    "rng = np.random.RandomState(111)\n",
    "X = np.concatenate([X, rng.uniform(low=-5, high=5,size=(n_out, 2))], axis=0)"
   ]
  },
  {
   "cell_type": "code",
   "execution_count": 27,
   "id": "e7c89ded",
   "metadata": {},
   "outputs": [],
   "source": [
    "modelo_DB=EllipticEnvelope(contamination=f_out)\n",
    "estima=modelo_DB.fit(X)"
   ]
  },
  {
   "cell_type": "code",
   "execution_count": 20,
   "id": "0720231b",
   "metadata": {},
   "outputs": [
    {
     "data": {
      "image/png": "[encoded data removed]",
      "text/plain": [
       "<Figure size 432x288 with 1 Axes>"
      ]
     },
     "metadata": {
      "needs_background": "light"
     },
     "output_type": "display_data"
    }
   ],
   "source": [
    "y_pred=estima.predict(X)\n",
    "plt.scatter(X[y_pred==1, 0], X[y_pred==1, 1], s=30, marker='o')\n",
    "plt.scatter(X[y_pred==-1, 0], X[y_pred==-1, 1], s=30, marker='*')\n",
    "plt.title(\"Aplicación de Mahanalobis\")\n",
    "plt.savefig(\"Aplicación de Mahanalobis.pdf\")\n",
    "plt.show()"
   ]
  },
  {
   "cell_type": "code",
   "execution_count": null,
   "id": "1e56bc6d",
   "metadata": {
    "scrolled": true
   },
   "outputs": [],
   "source": [
    "modelo=LocalOutlierFactor(n_neighbors=25, contamination=f_out)\n",
    "y_pred=modelo.fit_predict(X)"
   ]
  },
  {
   "cell_type": "code",
   "execution_count": null,
   "id": "0e41de40",
   "metadata": {
    "scrolled": true
   },
   "outputs": [],
   "source": [
    "plt.scatter(X[y_pred==1, 0], X[y_pred==1, 1], s=30, marker='o')\n",
    "plt.scatter(X[y_pred==-1, 0], X[y_pred==-1, 1], s=30, marker='*')\n",
    "plt.title(\"Aplicación del LOF\")\n",
    "plt.savefig(\"Aplicación_del_LOF.pdf\")\n",
    "plt.show()\n"
   ]
  },
  {
   "cell_type": "code",
   "execution_count": null,
   "id": "5e8d3d06",
   "metadata": {},
   "outputs": [],
   "source": []
  },
  {
   "cell_type": "code",
   "execution_count": null,
   "id": "90dbbc28",
   "metadata": {},
   "outputs": [],
   "source": []
  }
 ],
 "metadata": {
  "kernelspec": {
   "display_name": "Python 3 (ipykernel)",
   "language": "python",
   "name": "python3"
  },
  "language_info": {
   "codemirror_mode": {
    "name": "ipython",
    "version": 3
   },
   "file_extension": ".py",
   "mimetype": "text/x-python",
   "name": "python",
   "nbconvert_exporter": "python",
   "pygments_lexer": "ipython3",
   "version": "3.9.12"
  }
 },
 "nbformat": 4,
 "nbformat_minor": 5
}
